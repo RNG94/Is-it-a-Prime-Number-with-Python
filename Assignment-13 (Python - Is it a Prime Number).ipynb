{
 "cells": [
  {
   "cell_type": "code",
   "execution_count": 12,
   "id": "8a4f67c5",
   "metadata": {},
   "outputs": [
    {
     "name": "stdout",
     "output_type": "stream",
     "text": [
      "Enter a number : 62\n",
      "62 is not a prime number\n"
     ]
    }
   ],
   "source": [
    "number = int(input(\"Enter a number : \"))\n",
    "\n",
    "count = 0\n",
    "\n",
    "for i in range(1, number):\n",
    "    if number % i == 0:\n",
    "        count += 1\n",
    "    else:\n",
    "        count += 0\n",
    "\n",
    "if count == 1:\n",
    "    print(\"{} is a prime number\".format(number))\n",
    "else:\n",
    "    print(\"{} is not a prime number\".format(number))"
   ]
  },
  {
   "cell_type": "code",
   "execution_count": null,
   "id": "527e5cbc",
   "metadata": {},
   "outputs": [],
   "source": []
  }
 ],
 "metadata": {
  "kernelspec": {
   "display_name": "Python 3 (ipykernel)",
   "language": "python",
   "name": "python3"
  },
  "language_info": {
   "codemirror_mode": {
    "name": "ipython",
    "version": 3
   },
   "file_extension": ".py",
   "mimetype": "text/x-python",
   "name": "python",
   "nbconvert_exporter": "python",
   "pygments_lexer": "ipython3",
   "version": "3.9.12"
  }
 },
 "nbformat": 4,
 "nbformat_minor": 5
}
